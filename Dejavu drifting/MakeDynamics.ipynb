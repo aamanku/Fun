{
 "metadata": {
  "language_info": {
   "codemirror_mode": {
    "name": "ipython",
    "version": 3
   },
   "file_extension": ".py",
   "mimetype": "text/x-python",
   "name": "python",
   "nbconvert_exporter": "python",
   "pygments_lexer": "ipython3",
   "version": "3.8.5"
  },
  "orig_nbformat": 2,
  "kernelspec": {
   "name": "python385jvsc74a57bd03d7ff7c6f19c8d1516f5819163915cab683cfb4e87634c09b4ae98226ac2e3f6",
   "display_name": "Python 3.8.5 64-bit"
  },
  "metadata": {
   "interpreter": {
    "hash": "3d7ff7c6f19c8d1516f5819163915cab683cfb4e87634c09b4ae98226ac2e3f6"
   }
  }
 },
 "nbformat": 4,
 "nbformat_minor": 2,
 "cells": [
  {
   "cell_type": "code",
   "execution_count": 1,
   "metadata": {},
   "outputs": [
    {
     "output_type": "stream",
     "name": "stdout",
     "text": [
      ""
     ]
    }
   ],
   "source": [
    "# Written by Abhijeet Kulkarni @amkulk@udel.edu\n",
    "import sympy as sm\n",
    "import numpy as np\n",
    "from IPython.core.interactiveshell import InteractiveShell\n",
    "InteractiveShell.ast_node_interactivity = \"all\"\n",
    "import dill\n",
    "dill.settings['recurse'] = True\n",
    "from sympy.utilities.lambdify import lambdify, implemented_function\n",
    "!which python"
   ]
  },
  {
   "cell_type": "code",
   "execution_count": 2,
   "metadata": {},
   "outputs": [],
   "source": [
    "M,I,Fx1,Fy1,Fx2,Fy2,a1,a2,C1,C2 = sm.symbols(r'M I F_{x1} F_{y1} F_{x2} F_{y2} a_1 a_2 C_1 C_2',real=True)\n",
    "vx,vy,dtheta,theta,delta = sm.symbols(r'v_x v_y \\dot{\\theta} \\theta \\delta',real=True)\n",
    "X,Y,dX,dY = sm.symbols(r'X Y \\dot{X} \\dot{Y}')"
   ]
  },
  {
   "cell_type": "code",
   "execution_count": 3,
   "metadata": {},
   "outputs": [
    {
     "output_type": "execute_result",
     "data": {
      "text/plain": [
       "Matrix([\n",
       "[                                                                                                \\dot{X}],\n",
       "[                                                                                                \\dot{Y}],\n",
       "[                                                                                           \\dot{\\theta}],\n",
       "[(F_{x1}*cos(\\delta + \\theta) + F_{x2}*cos(\\theta) - F_{y1}*sin(\\delta + \\theta) - F_{y2}*sin(\\theta))/M],\n",
       "[(F_{x1}*sin(\\delta + \\theta) + F_{x2}*sin(\\theta) + F_{y1}*cos(\\delta + \\theta) + F_{y2}*cos(\\theta))/M],\n",
       "[                                        (-F_{y2}*a_2 + a_1*(F_{x1}*sin(\\delta) + F_{y1}*cos(\\delta)))/I]])"
      ],
      "text/latex": "$\\displaystyle \\left[\\begin{matrix}\\dot{X}\\\\\\dot{Y}\\\\\\dot{\\theta}\\\\\\frac{F_{x1} \\cos{\\left(\\delta + \\theta \\right)} + F_{x2} \\cos{\\left(\\theta \\right)} - F_{y1} \\sin{\\left(\\delta + \\theta \\right)} - F_{y2} \\sin{\\left(\\theta \\right)}}{M}\\\\\\frac{F_{x1} \\sin{\\left(\\delta + \\theta \\right)} + F_{x2} \\sin{\\left(\\theta \\right)} + F_{y1} \\cos{\\left(\\delta + \\theta \\right)} + F_{y2} \\cos{\\left(\\theta \\right)}}{M}\\\\\\frac{- F_{y2} a_{2} + a_{1} \\left(F_{x1} \\sin{\\left(\\delta \\right)} + F_{y1} \\cos{\\left(\\delta \\right)}\\right)}{I}\\end{matrix}\\right]$"
     },
     "metadata": {},
     "execution_count": 3
    }
   ],
   "source": [
    "#Velocities\n",
    "vx = dX*sm.cos(theta) + dY*sm.sin(theta)\n",
    "vy = -dX*sm.sin(theta) + dY*sm.cos(theta)\n",
    "#Forces\n",
    "#Fy1 = -C1*sm.atan((vy+dtheta*a1)/vx)\n",
    "#Fy2 = -C2*sm.atan((vy-dtheta*a2)/vx)\n",
    "Fy = Fy2 + Fy1*sm.cos(delta)+Fx1*sm.sin(delta)\n",
    "Fx = Fx2 + Fx1*sm.cos(delta) - Fy1*sm.sin(delta)\n",
    "Tau = -Fy2*a2+a1*(Fy1*sm.cos(delta)+Fx1*sm.sin(delta))\n",
    "\n",
    "#Accelerations in Global frame\n",
    "ddX = (Fx*sm.cos(theta)-Fy*sm.sin(theta))/M\n",
    "ddY = (Fx*sm.sin(theta)+Fy*sm.cos(theta))/M\n",
    "ddtheta = Tau/I\n",
    "ddX=sm.simplify(ddX)\n",
    "ddY=sm.simplify(ddY)\n",
    "ddtheta=sm.simplify(ddtheta)\n",
    "ode=sm.simplify(sm.Matrix([dX, dY, dtheta, ddX, ddY, ddtheta]))\n",
    "fode=lambdify([[X,Y,theta,dX,dY,dtheta],[delta,Fx1,Fx2],[Fy1,Fy2],M,I,a1,a2],ode,'numpy')\n",
    "ode\n",
    "dill.dump(fode, open(\"eta_dot.dill\",\"wb\"))"
   ]
  },
  {
   "cell_type": "code",
   "execution_count": 4,
   "metadata": {},
   "outputs": [],
   "source": [
    "#ddX.free_symbols\n",
    "#ddY.free_symbols\n",
    "#ddtheta.free_symbols"
   ]
  },
  {
   "cell_type": "code",
   "execution_count": 12,
   "metadata": {},
   "outputs": [
    {
     "output_type": "execute_result",
     "data": {
      "text/plain": [
       "-C_1*(-\\delta + atan2(-\\dot{X}*sin(\\theta) + \\dot{Y}*cos(\\theta) + \\dot{\\theta}*a_1, \\dot{X}*cos(\\theta) + \\dot{Y}*sin(\\theta)))"
      ],
      "text/latex": "$\\displaystyle - C_{1} \\left(- \\delta + \\operatorname{atan_{2}}{\\left(- \\dot{X} \\sin{\\left(\\theta \\right)} + \\dot{Y} \\cos{\\left(\\theta \\right)} + \\dot{\\theta} a_{1},\\dot{X} \\cos{\\left(\\theta \\right)} + \\dot{Y} \\sin{\\left(\\theta \\right)} \\right)}\\right)$"
     },
     "metadata": {},
     "execution_count": 12
    },
    {
     "output_type": "execute_result",
     "data": {
      "text/plain": [
       "-C_2*atan2(-\\dot{X}*sin(\\theta) + \\dot{Y}*cos(\\theta) - \\dot{\\theta}*a_2, \\dot{X}*cos(\\theta) + \\dot{Y}*sin(\\theta))"
      ],
      "text/latex": "$\\displaystyle - C_{2} \\operatorname{atan_{2}}{\\left(- \\dot{X} \\sin{\\left(\\theta \\right)} + \\dot{Y} \\cos{\\left(\\theta \\right)} - \\dot{\\theta} a_{2},\\dot{X} \\cos{\\left(\\theta \\right)} + \\dot{Y} \\sin{\\left(\\theta \\right)} \\right)}$"
     },
     "metadata": {},
     "execution_count": 12
    },
    {
     "output_type": "execute_result",
     "data": {
      "text/plain": [
       "array([[-1.2246468e-13],\n",
       "       [-1.2246468e-13]])"
      ]
     },
     "metadata": {},
     "execution_count": 12
    }
   ],
   "source": [
    "#Contact forces\n",
    "Fy1 = -C1*(sm.atan2((vy+dtheta*a1),vx)-delta)\n",
    "Fy2 = -C2*(sm.atan2((vy-dtheta*a2),vx))\n",
    "Fy1\n",
    "Fy2\n",
    "#fF_contact = lambdify([[x,y,bet,dx,dy,dbet],[tht,Ffl,Frl],M,I,a,b],F_contact,'numpy')\n",
    "F_lateral = sm.Matrix([Fy1,Fy2])\n",
    "fF_lateral = lambdify([[X,Y,theta,dX,dY,dtheta],[delta,Fx1,Fx2],a1,a2,C1,C2],F_lateral,'numpy')\n",
    "fF_lateral([1,1,np.deg2rad(180),-1,0,0],[0,0,0],1,1,1000,1000)\n",
    "#dill.dump(fF_lateral, open(\"F_contact.dill\",\"wb\"))"
   ]
  },
  {
   "cell_type": "code",
   "execution_count": 6,
   "metadata": {},
   "outputs": [
    {
     "output_type": "execute_result",
     "data": {
      "text/plain": [
       "<function _lambdifygenerated(_Dummy_185, _Dummy_186, a_1, a_2, C_1, C_2)>"
      ]
     },
     "metadata": {},
     "execution_count": 6
    }
   ],
   "source": []
  },
  {
   "cell_type": "code",
   "execution_count": null,
   "metadata": {},
   "outputs": [],
   "source": []
  }
 ]
}
